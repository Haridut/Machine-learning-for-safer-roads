{
 "cells": [
  {
   "cell_type": "markdown",
   "metadata": {},
   "source": [
    "# This code implements Logistic Regression to classify fatal road collisions in Angeles (Public data by Los Angeles Traffic department)"
   ]
  },
  {
   "cell_type": "code",
   "execution_count": 22,
   "metadata": {
    "collapsed": true
   },
   "outputs": [],
   "source": [
    "import pandas as pd, numpy as np"
   ]
  },
  {
   "cell_type": "code",
   "execution_count": 2,
   "metadata": {
    "collapsed": true
   },
   "outputs": [],
   "source": [
    "#Reading in the data\n",
    "LA_df=pd.read_csv('/Users/Haridut/Documents/visionzero -LA/Collisions_LA_2009-13.csv')"
   ]
  },
  {
   "cell_type": "code",
   "execution_count": 3,
   "metadata": {},
   "outputs": [],
   "source": [
    "#We select Time category, Day of the week, Intersection, Type of collision, alcohol , primary reason for collision,\n",
    "#Pedestrian's actions as features and number of people killed as target\n",
    "Logistic_df=LA_df[['TIMECAT','DAY_OF_WEEK','INTERSECTION','TYPE_OF_COLLISION','ALCOHOL_INVOLVED','PRIMARY_COLL_FACTOR','PED_ACTION','NUMBER_KILLED']]"
   ]
  },
  {
   "cell_type": "code",
   "execution_count": 4,
   "metadata": {},
   "outputs": [
    {
     "name": "stderr",
     "output_type": "stream",
     "text": [
      "/Applications/anaconda/lib/python3.6/site-packages/ipykernel_launcher.py:8: SettingWithCopyWarning: \n",
      "A value is trying to be set on a copy of a slice from a DataFrame.\n",
      "Try using .loc[row_indexer,col_indexer] = value instead\n",
      "\n",
      "See the caveats in the documentation: http://pandas.pydata.org/pandas-docs/stable/indexing.html#indexing-view-versus-copy\n",
      "  \n"
     ]
    }
   ],
   "source": [
    "#After analyzing all the features, it was found alcohol had missing values. We filled in the missing values \n",
    "# with 'N' indicating 'No Alcohol consumed' since it is the majority class.\n",
    "def fill_missing(x):\n",
    "    if pd.isnull(x):\n",
    "        return 'N'\n",
    "    else:\n",
    "        return 'Y'\n",
    "Logistic_df['ALCOHOL_INVOLVED']=Logistic_df['ALCOHOL_INVOLVED'].apply(lambda x: fill_missing(x))  "
   ]
  },
  {
   "cell_type": "code",
   "execution_count": 5,
   "metadata": {},
   "outputs": [],
   "source": [
    "#Lots of entries are '-'. We select only those rows where none of the features have value as '-'.\n",
    "Logistic_df=Logistic_df[(Logistic_df['INTERSECTION']!='-') & (Logistic_df['TYPE_OF_COLLISION']!='-') & (Logistic_df['PRIMARY_COLL_FACTOR']!='-') & (Logistic_df['PED_ACTION']!='-')]"
   ]
  },
  {
   "cell_type": "code",
   "execution_count": 6,
   "metadata": {},
   "outputs": [],
   "source": [
    "#The goal of our logistic regression classification is to preict whethere there was a fatality given the circumstances\n",
    "# Hence, transformed the 'NUMBER_KILLED' column with 1 indicating fatality and 0 indicating no fatality\n",
    "def fatality(x):\n",
    "    if x>0:\n",
    "        return 1\n",
    "    else:\n",
    "        return 0\n",
    "Logistic_df['NUMBER_KILLED']=Logistic_df['NUMBER_KILLED'].apply(lambda x: fatality(x))"
   ]
  },
  {
   "cell_type": "code",
   "execution_count": 7,
   "metadata": {},
   "outputs": [
    {
     "data": {
      "text/plain": [
       "0    168682\n",
       "1       870\n",
       "Name: NUMBER_KILLED, dtype: int64"
      ]
     },
     "execution_count": 7,
     "metadata": {},
     "output_type": "execute_result"
    }
   ],
   "source": [
    "Logistic_df['NUMBER_KILLED'].value_counts()\n",
    "#We can see that the fatality instances are just a fraction of the incidents. Hence, the data is largely imbalanced\n",
    "#To overcome this we adopt a technique called Synthetic Minority Over Sampling (SMOTE) which gives us more fatality\n",
    "# instances. This part was done in R as python's SMOTE library requires features to be continuous."
   ]
  },
  {
   "cell_type": "code",
   "execution_count": 8,
   "metadata": {},
   "outputs": [],
   "source": [
    "#We write this to an excel file\n",
    "Logistic_df.to_csv('/Users/Haridut/Documents/visionzero -LA/Logistic_df.csv')"
   ]
  },
  {
   "cell_type": "code",
   "execution_count": 9,
   "metadata": {},
   "outputs": [],
   "source": [
    "#After performing SMOTE, we import the data\n",
    "After_smote=pd.read_csv('/Users/Haridut/Documents/visionzero -LA/After_SMOTE.csv')"
   ]
  },
  {
   "cell_type": "code",
   "execution_count": 10,
   "metadata": {},
   "outputs": [
    {
     "data": {
      "text/plain": [
       "0    17400\n",
       "1     9570\n",
       "Name: NUMBER_KILLED, dtype: int64"
      ]
     },
     "execution_count": 10,
     "metadata": {},
     "output_type": "execute_result"
    }
   ],
   "source": [
    "After_smote['NUMBER_KILLED'].value_counts()\n",
    "#Now, the fatality instances are well represented "
   ]
  },
  {
   "cell_type": "code",
   "execution_count": 11,
   "metadata": {},
   "outputs": [],
   "source": [
    "# We'll use pd.get_dummies to convert the categorical variables into indicator variables. To use pd.get_dummies we\n",
    "# need the features to be of the type 'object'. So, we convert all columns into object type.\n",
    "for i in ['TIMECAT','DAY_OF_WEEK','INTERSECTION','TYPE_OF_COLLISION','ALCOHOL_INVOLVED','PRIMARY_COLL_FACTOR','PED_ACTION','NUMBER_KILLED']:\n",
    "    After_smote[i]=After_smote[i].astype(object)"
   ]
  },
  {
   "cell_type": "code",
   "execution_count": 12,
   "metadata": {},
   "outputs": [
    {
     "name": "stdout",
     "output_type": "stream",
     "text": [
      "   TIMECAT_600  TIMECAT_900  TIMECAT_1200  TIMECAT_1500  TIMECAT_1800  \\\n",
      "0            0            0             0             1             0   \n",
      "1            0            0             0             0             0   \n",
      "2            0            0             0             0             1   \n",
      "\n",
      "   TIMECAT_2100  TIMECAT_2400  DAY_OF_WEEK_2  \n",
      "0             0             0              0  \n",
      "1             1             0              0  \n",
      "2             0             0              0  \n"
     ]
    }
   ],
   "source": [
    "# Transforming into indicator variables. For any feature with 'n' attributes, there would be 'n-1' columns as one value \n",
    "# would be redundant. It is understood that if it is not 'Male' , it is 'Female' for example.\n",
    "After_smote=pd.get_dummies(After_smote,drop_first=True)\n",
    "#Look at how the teble is split up.\n",
    "print(After_smote.head(3).iloc[:,:8])\n",
    "#Renaming the target variable\n",
    "After_smote=After_smote.rename(columns={\"NUMBER_KILLED_1\":\"KILLED?\"})"
   ]
  },
  {
   "cell_type": "code",
   "execution_count": 13,
   "metadata": {},
   "outputs": [],
   "source": [
    "#Splitting the features and target variables\n",
    "X_after_smote=After_smote.drop('KILLED?',axis=1)\n",
    "y_after_smote=After_smote['KILLED?']\n",
    "#Dividing the datset into training and test data set by train_test_split method in sklearn\n",
    "from sklearn.model_selection import train_test_split\n",
    "X_train,X_test,y_train,y_test=train_test_split(X_after_smote,y_after_smote,random_state=0)"
   ]
  },
  {
   "cell_type": "code",
   "execution_count": 14,
   "metadata": {},
   "outputs": [
    {
     "name": "stdout",
     "output_type": "stream",
     "text": [
      "Grid best parameter (max. accuracy):  {'C': 10, 'penalty': 'l1'}\n",
      "Grid best score (recall):  0.737310252044\n"
     ]
    }
   ],
   "source": [
    "#Performing a Grid Search over different regularization parameters\n",
    "from sklearn.model_selection import GridSearchCV\n",
    "from sklearn.linear_model import LogisticRegression\n",
    "param_grid={'penalty':['l1','l2'],'C':[0.01,0.1,1,10,100]}\n",
    "grid_clf_recall=GridSearchCV(LogisticRegression(random_state=0),param_grid=param_grid,scoring='recall',cv=3)\n",
    "grid_clf_recall.fit(X_train,y_train)\n",
    "print('Grid best parameter (max. accuracy): ', grid_clf_recall.best_params_)\n",
    "print('Grid best score (recall): ', grid_clf_recall.best_score_)"
   ]
  },
  {
   "cell_type": "code",
   "execution_count": 15,
   "metadata": {},
   "outputs": [
    {
     "name": "stdout",
     "output_type": "stream",
     "text": [
      "Accuracy with which Logistic Regression predicts a fatality: 0.842\n"
     ]
    }
   ],
   "source": [
    "#Implementing Logistic Regression\n",
    "from sklearn.linear_model import LogisticRegression\n",
    "#Training the classifier on traing set.\n",
    "Logistic=LogisticRegression(penalty='l1',C=10.0).fit(X_train,y_train)\n",
    "#Accuracy on the test set (But Accuracy does not mean much in this case, instead we need one that scores good on recall and precision)\n",
    "print('Accuracy with which Logistic Regression predicts a fatality: {:.3f}'.format(Logistic.score(X_test,y_test)))"
   ]
  },
  {
   "cell_type": "code",
   "execution_count": 16,
   "metadata": {},
   "outputs": [
    {
     "name": "stdout",
     "output_type": "stream",
     "text": [
      "Cross Validation Recall for C=10: 0.736 (+/- 0.061)\n",
      "Cross Validation Precision for C=10: 0.792 (+/- 0.027)\n",
      "\n",
      "\n"
     ]
    }
   ],
   "source": [
    "#Performing 5-fold cross validation test to calculate the precision and recall\n",
    "from sklearn.linear_model import LogisticRegression\n",
    "from sklearn.model_selection import cross_val_score\n",
    "scores_recall=cross_val_score(LogisticRegression(penalty='l1',C=10.0),X_after_smote,y_after_smote,cv=5,scoring='recall')\n",
    "scores_precision=cross_val_score(Logistic,X_after_smote,y_after_smote,cv=5,scoring='precision')\n",
    "print(\"Cross Validation Recall for C=10: \" + \"%0.3f (+/- %0.3f)\" % (scores_recall.mean(), scores_recall.std() * 2))\n",
    "print(\"Cross Validation Precision for C=10: \" + \"%0.3f (+/- %0.3f)\\n\\n\" % (scores_precision.mean(), scores_precision.std() * 2))\n",
    "#The logistic regression does a fair job in classifying if there was a fatality or not"
   ]
  },
  {
   "cell_type": "code",
   "execution_count": 17,
   "metadata": {},
   "outputs": [
    {
     "name": "stdout",
     "output_type": "stream",
     "text": [
      "Confusion Matrix: \n",
      "\n",
      "True Negatives: 3923\n",
      "True Positives: 1754\n",
      "False Positives: 441\n",
      "False Negative: 625\n",
      "There are 625 cases out of the 6743 cases where there was a fatality but \n",
      "logistic regression predicted no fatality\n",
      "\n",
      " \n",
      " Classification Report: \n",
      "\n",
      "             precision    recall  f1-score   support\n",
      "\n",
      "    class 0       0.86      0.90      0.88      4364\n",
      "    class 1       0.80      0.74      0.77      2379\n",
      "\n",
      "avg / total       0.84      0.84      0.84      6743\n",
      "\n"
     ]
    }
   ],
   "source": [
    "# Output Confusion Matrix on test set \n",
    "from sklearn.metrics import confusion_matrix\n",
    "predictions=Logistic.predict(X_test)\n",
    "print ('Confusion Matrix: \\n')\n",
    "cf=confusion_matrix(y_test,predictions)\n",
    "print('True Negatives: '+str(cf[0][0]))\n",
    "print('True Positives: '+str(cf[1][1]))\n",
    "print('False Positives: '+str(cf[0][1]))\n",
    "print('False Negative: '+str(cf[1][0]))\n",
    "print('There are ' +str(cf[1][0]) + ' cases out of the '+str(cf[0][0]+cf[1][1]+cf[0][1]+cf[1][0]) +' cases where there was a fatality but \\nlogistic regression predicted no fatality')\n",
    "# Output a classification report with precision and recall\n",
    "from sklearn.metrics import classification_report\n",
    "target_names = ['class 0','class 1']\n",
    "print('\\n \\n Classification Report: \\n')\n",
    "print(classification_report(y_test,predictions,target_names=target_names))\n"
   ]
  },
  {
   "cell_type": "code",
   "execution_count": 18,
   "metadata": {},
   "outputs": [
    {
     "name": "stderr",
     "output_type": "stream",
     "text": [
      "/Applications/anaconda/lib/python3.6/site-packages/matplotlib/cbook/deprecation.py:106: MatplotlibDeprecationWarning: Adding an axes using the same arguments as a previous axes currently reuses the earlier instance.  In a future version, a new instance will always be created and returned.  Meanwhile, this warning can be suppressed, and the future behavior ensured, by passing a unique label to each axes instance.\n",
      "  warnings.warn(message, mplDeprecation, stacklevel=1)\n"
     ]
    },
    {
     "data": {
      "image/png": "[encoded data removed]",
      "text/plain": [
       "<matplotlib.figure.Figure at 0x117084d30>"
      ]
     },
     "metadata": {},
     "output_type": "display_data"
    }
   ],
   "source": [
    "#Precision Recall curve for different thresholds\n",
    "from sklearn.metrics import precision_recall_curve,roc_curve,auc\n",
    "import matplotlib.pyplot as plt\n",
    "%matplotlib inline\n",
    "y_scores_lr = Logistic.decision_function(X_test)\n",
    "precision, recall, thresholds = precision_recall_curve(y_test, y_scores_lr)\n",
    "plt.figure()\n",
    "plt.xlim([0.0, 1.01])\n",
    "plt.ylim([0.0, 1.01])\n",
    "plt.plot(precision,recall,label='Precsion-Recall Curve')\n",
    "plt.xlabel('Precision', fontsize=16)\n",
    "plt.ylabel('Recall', fontsize=16)\n",
    "plt.axes().set_aspect('equal')\n",
    "plt.show()"
   ]
  },
  {
   "cell_type": "code",
   "execution_count": 19,
   "metadata": {},
   "outputs": [
    {
     "name": "stderr",
     "output_type": "stream",
     "text": [
      "/Applications/anaconda/lib/python3.6/site-packages/matplotlib/cbook/deprecation.py:106: MatplotlibDeprecationWarning: Adding an axes using the same arguments as a previous axes currently reuses the earlier instance.  In a future version, a new instance will always be created and returned.  Meanwhile, this warning can be suppressed, and the future behavior ensured, by passing a unique label to each axes instance.\n",
      "  warnings.warn(message, mplDeprecation, stacklevel=1)\n"
     ]
    },
    {
     "data": {
      "image/png": "[encoded data removed]",
      "text/plain": [
       "<matplotlib.figure.Figure at 0x11c0b1a58>"
      ]
     },
     "metadata": {},
     "output_type": "display_data"
    }
   ],
   "source": [
    "fpr_lr, tpr_lr, _ = roc_curve(y_test, y_scores_lr)\n",
    "roc_auc_lr = auc(fpr_lr, tpr_lr)\n",
    "plt.figure()\n",
    "plt.xlim([-0.01, 1.00])\n",
    "plt.ylim([-0.01, 1.01])\n",
    "plt.plot(fpr_lr, tpr_lr, lw=3, label='LogRegr ROC curve (area = {:0.2f})'.format(roc_auc_lr))\n",
    "plt.xlabel('False Positive Rate', fontsize=16)\n",
    "plt.ylabel('True Positive Rate', fontsize=16)\n",
    "plt.title('ROC curve', fontsize=16)\n",
    "plt.legend(loc='lower right', fontsize=13)\n",
    "plt.plot([0, 1], [0, 1], color='navy', lw=3, linestyle='--')\n",
    "plt.axes().set_aspect('equal')\n",
    "plt.show()\n",
    "\n",
    "#AUC = 90% which is very good, indicating that False positive rate is low compared to true positive rate"
   ]
  },
  {
   "cell_type": "code",
   "execution_count": 21,
   "metadata": {},
   "outputs": [
    {
     "name": "stdout",
     "output_type": "stream",
     "text": [
      "The most important factors that forces the classifier towards predicting a death:\n",
      "\n",
      "PED_ACTION_F : 8.41020738759\n",
      "ALCOHOL_INVOLVED_Y : 7.59346590636\n",
      "PED_ACTION_E : 5.90786372228\n",
      "PED_ACTION_D : 4.88494003612\n",
      "PED_ACTION_C : 4.58960973213\n",
      "TYPE_OF_COLLISION_G : 4.52979232067\n",
      "PED_ACTION_B : 4.51222714733\n",
      "PRIMARY_COLL_FACTOR_D : 3.87477074121\n",
      "TYPE_OF_COLLISION_F : 2.67954009791\n",
      "PRIMARY_COLL_FACTOR_B : 2.54589887182\n",
      "\n",
      "For Example, the odds of a fatality is 7.6 times more when alcohol is involved compared to when alcohol is not involved\n",
      "\n"
     ]
    }
   ],
   "source": [
    "odds_ratio=np.exp(Logistic.coef_[0])\n",
    "attribute_fatality_imp = odds_ratio.argsort()[::-1][:10]\n",
    "print('The most important factors that forces the classifier towards predicting a death:\\n')\n",
    "for i in attribute_fatality_imp:\n",
    "    print (str(X_after_smote.columns[i]) +' : ' + str(odds_ratio[i]))\n",
    "print('\\nFor Example, the odds of a fatality is 7.6 times more when alcohol is involved compared to when alcohol is not involved\\n')"
   ]
  }
 ],
 "metadata": {
  "anaconda-cloud": {},
  "kernelspec": {
   "display_name": "Python 3",
   "language": "python",
   "name": "python3"
  },
  "language_info": {
   "codemirror_mode": {
    "name": "ipython",
    "version": 3
   },
   "file_extension": ".py",
   "mimetype": "text/x-python",
   "name": "python",
   "nbconvert_exporter": "python",
   "pygments_lexer": "ipython3",
   "version": "3.6.1"
  }
 },
 "nbformat": 4,
 "nbformat_minor": 1
}
