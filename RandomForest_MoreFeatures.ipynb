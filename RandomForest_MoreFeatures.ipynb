{
 "cells": [
  {
   "cell_type": "code",
   "execution_count": 1,
   "metadata": {
    "collapsed": true
   },
   "outputs": [],
   "source": [
    "#Import required packages\n",
    "import pandas as pd\n",
    "import numpy as np"
   ]
  },
  {
   "cell_type": "code",
   "execution_count": 2,
   "metadata": {
    "collapsed": true
   },
   "outputs": [],
   "source": [
    "Smote_df=pd.read_csv('/Users/Haridut/Documents/visionzero -LA/More_features1_smote.csv')\n",
    "for i in Smote_df.columns:\n",
    "    Smote_df[i]=Smote_df[i].astype(object)"
   ]
  },
  {
   "cell_type": "code",
   "execution_count": 3,
   "metadata": {
    "collapsed": true
   },
   "outputs": [],
   "source": [
    "X=Smote_df.drop('NUMBER_KILLED',axis=1)\n",
    "X=pd.get_dummies(X,drop_first=True)\n",
    "y=Smote_df['NUMBER_KILLED']\n",
    "y=list(y.values)"
   ]
  },
  {
   "cell_type": "code",
   "execution_count": 16,
   "metadata": {},
   "outputs": [
    {
     "name": "stdout",
     "output_type": "stream",
     "text": [
      "Features and their importance \n",
      "\n",
      "PEDESTRIAN_ACCIDENT_Y : 0.180025347539\n",
      "MVIW_B : 0.162996011158\n",
      "TYPE_OF_COLLISION_G : 0.155892640848\n",
      "ALCOHOL_INVOLVED_Y : 0.0657634725756\n",
      "PCF_VIOL_CATEGORY_11 : 0.0622058292801\n",
      "ROAD_SURFACE_B : 0.052158609454\n",
      "PED_ACTION_D : 0.0436107727153\n",
      "PED_ACTION_B : 0.0431595674902\n",
      "WEATHER_1_C : 0.0353979489044\n",
      "MVIW_C : 0.0286098633876\n",
      "MOTORCYCLE_ACCIDENT_Y : 0.0272213689872\n",
      "PCF_VIOL_CATEGORY_10 : 0.0203374490299\n"
     ]
    }
   ],
   "source": [
    "# Feature importance in the decision tree implemented\n",
    "feature_imp =grid_clf_recall.best_estimator_.feature_importances_\n",
    "#Sort the values of feature importances from high to low and return their indices\n",
    "top5_feature=feature_imp.argsort()[::-1][:12]\n",
    "#Extract the names of the features corresponding to index in top5_features\n",
    "feature_names=[]\n",
    "for i in top5_feature:\n",
    "    feature_names.append((X.columns[i],feature_imp[i]))\n",
    "print('Features and their importance \\n')\n",
    "for i in range(len(feature_names)):\n",
    "    print(str(feature_names[i][0] +' : ' +str(feature_names[i][1])))\n"
   ]
  },
  {
   "cell_type": "code",
   "execution_count": 10,
   "metadata": {
    "collapsed": true
   },
   "outputs": [],
   "source": [
    "#Splitting the features and target variables\n",
    "#Dividing the datset into training and test data set by train_test_split method in sklearn\n",
    "from sklearn.model_selection import train_test_split\n",
    "X_train,X_test,y_train,y_test=train_test_split(X,y,random_state=0)"
   ]
  },
  {
   "cell_type": "code",
   "execution_count": 14,
   "metadata": {},
   "outputs": [
    {
     "name": "stdout",
     "output_type": "stream",
     "text": [
      "Confusion Matrix: \n",
      "\n",
      "True Negatives: 29900\n",
      "True Positives: 19886\n",
      "False Positives: 1384\n",
      "False Negative: 1415\n",
      "\n",
      "There are 1415 cases out of the 52585 cases where there was a fatality but\n",
      "decision tree predicted no fatality\n",
      "\n",
      " \n",
      " Classification Report: \n",
      "\n",
      "              precision    recall  f1-score   support\n",
      "\n",
      "Non-Fatality       0.95      0.96      0.96     31284\n",
      "    Fatality       0.93      0.93      0.93     21301\n",
      "\n",
      " avg / total       0.95      0.95      0.95     52585\n",
      "\n"
     ]
    }
   ],
   "source": [
    "#For Visualization sake, lets fit a model with max_depth = 5 ( 9 would be tough to interpret)\n",
    "# Output Confusion Matrix on test set \n",
    "rcf=RandomForestClassifier(random_state=0,n_estimators=100,max_depth=9).fit(X_train,y_train)\n",
    "from sklearn.metrics import confusion_matrix\n",
    "predictions=rcf.predict(X_test)\n",
    "print ('Confusion Matrix: \\n')\n",
    "cf=confusion_matrix(y_test,predictions)\n",
    "print('True Negatives: '+str(cf[0][0]))\n",
    "print('True Positives: '+str(cf[1][1]))\n",
    "print('False Positives: '+str(cf[0][1]))\n",
    "print('False Negative: '+str(cf[1][0]))\n",
    "print('\\nThere are ' +str(cf[1][0]) +' cases out of the '+str(cf[0][0]+cf[1][1]+cf[0][1]+cf[1][0]) +' cases where there was a fatality but\\ndecision tree predicted no fatality')\n",
    "# Output a classification report with precision and recall\n",
    "from sklearn.metrics import classification_report\n",
    "target_names = ['Non-Fatality','Fatality']\n",
    "print('\\n \\n Classification Report: \\n')\n",
    "print(classification_report(y_test,predictions,target_names=target_names))"
   ]
  },
  {
   "cell_type": "code",
   "execution_count": null,
   "metadata": {
    "collapsed": true
   },
   "outputs": [],
   "source": []
  }
 ],
 "metadata": {
  "anaconda-cloud": {},
  "kernelspec": {
   "display_name": "Python 3",
   "language": "python",
   "name": "python3"
  },
  "language_info": {
   "codemirror_mode": {
    "name": "ipython",
    "version": 3
   },
   "file_extension": ".py",
   "mimetype": "text/x-python",
   "name": "python",
   "nbconvert_exporter": "python",
   "pygments_lexer": "ipython3",
   "version": "3.6.1"
  }
 },
 "nbformat": 4,
 "nbformat_minor": 1
}
